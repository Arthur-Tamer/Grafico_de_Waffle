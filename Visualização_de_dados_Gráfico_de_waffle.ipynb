{
  "nbformat": 4,
  "nbformat_minor": 0,
  "metadata": {
    "colab": {
      "provenance": [],
      "collapsed_sections": [],
      "include_colab_link": true
    },
    "kernelspec": {
      "name": "python3",
      "display_name": "Python 3"
    },
    "language_info": {
      "name": "python"
    }
  },
  "cells": [
    {
      "cell_type": "markdown",
      "metadata": {
        "id": "view-in-github",
        "colab_type": "text"
      },
      "source": [
        "<a href=\"https://colab.research.google.com/github/Arthur-Tamer/Grafico_de_Waffle/blob/main/Visualiza%C3%A7%C3%A3o_de_dados_Gr%C3%A1fico_de_waffle.ipynb\" target=\"_parent\"><img src=\"https://colab.research.google.com/assets/colab-badge.svg\" alt=\"Open In Colab\"/></a>"
      ]
    },
    {
      "cell_type": "markdown",
      "source": [
        "# **Visualização de dados: Gráfico de Waffle**\n",
        "\n",
        "---\n",
        "\n"
      ],
      "metadata": {
        "id": "wEFeTDXXWzzu"
      }
    },
    {
      "cell_type": "markdown",
      "source": [
        " Porquê? A piza pode ser deliciosa, mas os gráficos de piza/circulares são horríveis.\n"
      ],
      "metadata": {
        "id": "dpakYPJpkpuD"
      }
    },
    {
      "cell_type": "markdown",
      "source": [
        "![Gráfico de Waffle.png](data:image/png;base64,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)"
      ],
      "metadata": {
        "id": "CaU6SAgdplEj"
      }
    },
    {
      "cell_type": "markdown",
      "source": [
        "##**O que sabemos sobre gráficos de waffle?**\n",
        "\n",
        "1.   Eles são uma alternativa aos gráficos de piza/circulares porque são bons para exibir uma única percentagem. Normalmente, o gráfico de waffle é feito com quadrados representando o todo e podemos pintar esses quadrados com base na relação de várias partes com um todo.\n",
        "2.   São usados para mostrar o progresso em painéis onde cada elemento de exibição contribui para o geral.\n",
        "3.   Eles têm alguns contras, como se tornarem muito complicados quando muitas categorias estão envolvidas (como todos os gráficos).\n"
      ],
      "metadata": {
        "id": "36_UvdKQq8dF"
      }
    },
    {
      "cell_type": "markdown",
      "source": [
        "## Visualizando o todo\n",
        "\n",
        "Precisamos de ter em mente alguns pontos importantes quando se trata de construir a visualização:\n",
        "\n",
        "*   O cérebro tende a lutar quando vai além de meia dúzia de categorias e cores.\n",
        "\n",
        "*   A cor precisa de ser reservada para o impacto, deve ter significado e chamar a atenção. (Observe que isso nem sempre é fácil de fazer)\n",
        "\n",
        "*   Os gráficos de piza aumentam a carga mental de discernir arcos e áreas e, quando os valores estão próximos, é quase impossível dizer qual valor é maior."
      ],
      "metadata": {
        "id": "2VwqRKlgm8d5"
      }
    },
    {
      "cell_type": "markdown",
      "source": [
        "Então, quais são as coisas que precisamos de fazer para resolver o que foi dito acima?\n",
        "\n",
        "Foque nas 5 principais categorias para serem divididas e coloque o restante na categoria “outros”.\n",
        "\n",
        "*   Evite as cores padrão, use tons de uma cor neutra ou um conjunto de cores suaves.\n",
        "\n",
        "*   Abandone o gráfico de piza e construa um gráfico de waffle."
      ],
      "metadata": {
        "id": "L4uCaT52nVOp"
      }
    },
    {
      "cell_type": "markdown",
      "source": [
        "## **Construindo o gráfico de Waffle**\n"
      ],
      "metadata": {
        "id": "oEKy1hFIrsst"
      }
    },
    {
      "cell_type": "markdown",
      "source": [
        "A maneira mais simples de criar um gráfico de waffle é usando o pacote pywaffle."
      ],
      "metadata": {
        "id": "ScTMqqeKXjzX"
      }
    },
    {
      "cell_type": "markdown",
      "source": [
        "Primeiro, instalo o pacote pywaffle usando este comando:"
      ],
      "metadata": {
        "id": "-L9MP5ipYDqf"
      }
    },
    {
      "cell_type": "code",
      "execution_count": null,
      "metadata": {
        "id": "DNcpqNYmTCVg"
      },
      "outputs": [],
      "source": [
        "!pip install pywaffle -q"
      ]
    },
    {
      "cell_type": "markdown",
      "source": [
        "Então eu importo Waffle do pacote pywaffle"
      ],
      "metadata": {
        "id": "qDAWdIvHYJ0h"
      }
    },
    {
      "cell_type": "code",
      "source": [
        "# importar bibliotecas necessárias\n",
        "import matplotlib.pyplot as plt\n",
        "from pywaffle import Waffle"
      ],
      "metadata": {
        "id": "0HJmwUJdTF49"
      },
      "execution_count": 2,
      "outputs": []
    },
    {
      "cell_type": "markdown",
      "source": [
        "Defino os dados que serão usados no gráfico:"
      ],
      "metadata": {
        "id": "JOdDPWVQYPag"
      }
    },
    {
      "cell_type": "code",
      "source": [
        "# definindo dados (https://www.100people.org/statistics-100-people/)\n",
        "df_dados = {'Criança': 25, 'Adulto': 66, '65+': 9}"
      ],
      "metadata": {
        "id": "wTRdlnnbUie3"
      },
      "execution_count": 3,
      "outputs": []
    },
    {
      "cell_type": "markdown",
      "source": [
        "Agora, usando a documentação, posso criar gráficos de waffle básicos.\n",
        "\n",
        "Antes de tudo, devo instanciar uma nova figura, onde defino uma classe de figura como waffle, especifico quantas linhas nosso gráfico deve ter e valores para o gráfico."
      ],
      "metadata": {
        "id": "zrdED0JaYNpE"
      }
    },
    {
      "cell_type": "code",
      "source": [
        "# código simples para gráfico de waffle\n",
        "fig = plt.figure(\n",
        "    FigureClass = Waffle, \n",
        "    rows = 5,\n",
        "    values = df_dados,\n",
        "    labels = list(df_dados),\n",
        ")"
      ],
      "metadata": {
        "colab": {
          "base_uri": "https://localhost:8080/",
          "height": 131
        },
        "id": "WqScMZ4iVaZU",
        "outputId": "644d3168-187f-4135-825e-82de208b5b2f"
      },
      "execution_count": null,
      "outputs": [
        {
          "output_type": "display_data",
          "data": {
            "text/plain": [
              "<Waffle size 432x288 with 1 Axes>"
            ],
            "image/png": "[encoded data removed]"
          },
          "metadata": {
            "needs_background": "light"
          }
        }
      ]
    },
    {
      "cell_type": "markdown",
      "source": [
        "Obtemos uma imagem padrão para o gráfico de waffle, mas podemos alterar muitos parâmetros:\n",
        "\n",
        "* colors — uma lista de cores para cada categoria. O número de cores deve ser o mesmo que os valores.\n",
        "* columns — o número de colunas do gráfico de waffle. Colunas ou linhas são obrigatórias. Se passássemos linhas, as colunas seriam calculadas automaticamente."
      ],
      "metadata": {
        "id": "OnL7PIbDYYUJ"
      }
    },
    {
      "cell_type": "code",
      "source": [
        "# alterando cores e número de linhas/colunas\n",
        "fig = plt.figure(\n",
        "    FigureClass = Waffle, \n",
        "    rows = 7,\n",
        "    columns = 10,\n",
        "    colors = ['#1e2a78', '#ffd615', '#ff1f5a'],\n",
        "    values = df_dados,\n",
        "    labels = list(df_dados),\n",
        ")"
      ],
      "metadata": {
        "colab": {
          "base_uri": "https://localhost:8080/",
          "height": 297
        },
        "id": "tXRAfW2WTIAP",
        "outputId": "782eb1df-165d-42ba-84e8-aa52d3b1c8ce"
      },
      "execution_count": null,
      "outputs": [
        {
          "output_type": "display_data",
          "data": {
            "text/plain": [
              "<Waffle size 432x288 with 1 Axes>"
            ],
            "image/png": "[encoded data removed]"
          },
          "metadata": {
            "needs_background": "light"
          }
        }
      ]
    },
    {
      "cell_type": "markdown",
      "source": [
        "* characters — um caractere ou uma lista de caracteres para cada categoria.\n",
        "* font_size — tamanho da fonte para caracteres no gráfico. Pode ser um número absoluto ou valor de ‘xx-small’, ‘x-small’, ‘small’, ‘medium’, ‘large’, ‘x-large’, ‘xx-large’."
      ],
      "metadata": {
        "id": "aEjhjgjgYfuO"
      }
    },
    {
      "cell_type": "code",
      "source": [
        "# alterando símbolos e tamanho\n",
        "fig = plt.figure(\n",
        "    FigureClass = Waffle, \n",
        "    rows = 7,\n",
        "    columns = 10,\n",
        "    colors = ['#1e2a78', '#ffd615', '#ff1f5a'],\n",
        "    characters = ['+','o','*'],\n",
        "    font_size = 'xx-large',\n",
        "    values = df_dados,\n",
        "    labels = list(df_dados),\n",
        ")"
      ],
      "metadata": {
        "colab": {
          "base_uri": "https://localhost:8080/",
          "height": 297
        },
        "id": "l-L2GaeyTK2D",
        "outputId": "bd6a5d06-acf2-48f6-ef93-956a9e72eb08"
      },
      "execution_count": null,
      "outputs": [
        {
          "output_type": "display_data",
          "data": {
            "text/plain": [
              "<Waffle size 432x288 with 1 Axes>"
            ],
            "image/png": "[encoded data removed]"
          },
          "metadata": {
            "needs_background": "light"
          }
        }
      ]
    },
    {
      "cell_type": "markdown",
      "source": [
        "* icons — podemos trocar símbolos e quadrados com ícones. Se for uma string, todas as categorias usam o mesmo ícone.\n",
        "* icon_legend — adicione seu ícone na legenda\n",
        "\n",
        "Podemos usar, por exemplo, representações de clima"
      ],
      "metadata": {
        "id": "Kt8A8WqjYoaA"
      }
    },
    {
      "cell_type": "code",
      "source": [
        "# grádico de Waffle com ícones de clima\n",
        "fig = plt.figure(\n",
        "    FigureClass = Waffle, \n",
        "    rows = 7,\n",
        "    columns = 10,\n",
        "    colors = ['#eac100', '#10316b', '#dee1ec'],\n",
        "    font_size = 'xx-large',\n",
        "    values = df_dados,\n",
        "    labels = list(df_dados),\n",
        "    icons=['sun', 'cloud-showers-heavy', 'snowflake'], \n",
        "    icon_legend=True\n",
        ")"
      ],
      "metadata": {
        "colab": {
          "base_uri": "https://localhost:8080/",
          "height": 297
        },
        "id": "B8aZPInovT3c",
        "outputId": "3cc287f1-7b85-4ff6-fe66-36cf06c54679"
      },
      "execution_count": null,
      "outputs": [
        {
          "output_type": "display_data",
          "data": {
            "text/plain": [
              "<Waffle size 432x288 with 1 Axes>"
            ],
            "image/png": "[encoded data removed]"
          },
          "metadata": {
            "needs_background": "light"
          }
        }
      ]
    },
    {
      "cell_type": "markdown",
      "source": [
        "Como estamos analisando uma população, vou utilizar ícones de pessoas"
      ],
      "metadata": {
        "id": "F8-JQlpSvvHP"
      }
    },
    {
      "cell_type": "code",
      "source": [
        "# mudando símbolos para ícones\n",
        "fig = plt.figure(\n",
        "    FigureClass = Waffle, \n",
        "    rows = 7,\n",
        "    columns = 10,\n",
        "    colors = ['#1e2a78', '#ffd615', '#ff1f5a'],\n",
        "    font_size = 'xx-large',\n",
        "    values = df_dados,\n",
        "    labels = list(df_dados),\n",
        "    icons='child', icon_size=20, \n",
        "    icon_legend=True\n",
        ")"
      ],
      "metadata": {
        "id": "qfQM-6YWTMXc",
        "colab": {
          "base_uri": "https://localhost:8080/",
          "height": 297
        },
        "outputId": "c2a8c369-0309-4f66-ef86-cfb0463d5640"
      },
      "execution_count": null,
      "outputs": [
        {
          "output_type": "display_data",
          "data": {
            "text/plain": [
              "<Waffle size 432x288 with 1 Axes>"
            ],
            "image/png": "[encoded data removed]"
          },
          "metadata": {
            "needs_background": "light"
          }
        }
      ]
    },
    {
      "cell_type": "markdown",
      "source": [
        "Mas ainda podemos melhorar, vamos mover a legenda para fora do gráfico."
      ],
      "metadata": {
        "id": "jG_zKg54Y0Sr"
      }
    },
    {
      "cell_type": "code",
      "source": [
        "# colocando a legenda fora do corpo do gráfico\n",
        "fig = plt.figure(\n",
        "    FigureClass = Waffle, \n",
        "    rows = 7,\n",
        "    columns = 10,\n",
        "    colors = ['#1e2a78', '#ffd615', '#ff1f5a'],\n",
        "    font_size = 'xx-large',\n",
        "    values = df_dados,\n",
        "    legend = {'loc': 'upper left', 'bbox_to_anchor': (1, 1)},\n",
        "    labels = list(df_dados),\n",
        "    icons='child', icon_size=20, \n",
        "    icon_legend=True\n",
        ")"
      ],
      "metadata": {
        "colab": {
          "base_uri": "https://localhost:8080/",
          "height": 264
        },
        "id": "_pNKSeZqV7yk",
        "outputId": "dd5fe1c3-bc30-4b9f-a81b-a18d978dc10d"
      },
      "execution_count": null,
      "outputs": [
        {
          "output_type": "display_data",
          "data": {
            "text/plain": [
              "<Waffle size 432x288 with 1 Axes>"
            ],
            "image/png": "[encoded data removed]"
          },
          "metadata": {
            "needs_background": "light"
          }
        }
      ]
    },
    {
      "cell_type": "markdown",
      "source": [
        "Uma linha pode afastar a legenda do corpo do gráfico.\n",
        "```\n",
        "# legend = {'loc': 'upper left', 'bbox_to_anchor': (1, 1)},\n",
        "```\n",
        "\n"
      ],
      "metadata": {
        "id": "0l9lpfj_Y9Tp"
      }
    },
    {
      "cell_type": "markdown",
      "source": [
        "E por fim, podemos também adicionar um título para apresentar o nosso gráfico"
      ],
      "metadata": {
        "id": "hSnhGDkzt4qx"
      }
    },
    {
      "cell_type": "code",
      "source": [
        "# adicionando título no gráfico\n",
        "fig = plt.figure(\n",
        "    FigureClass = Waffle, \n",
        "    rows = 5,\n",
        "    columns = 20,\n",
        "    colors = ['#1e2a78', '#ffd615', '#ff1f5a'],\n",
        "    font_size = 'xx-large',\n",
        "    values = df_dados,\n",
        "    legend = {'loc': 'upper left', 'bbox_to_anchor': (1, 1)},\n",
        "    labels = list(df_dados),\n",
        "    icons='child', icon_size=14, \n",
        "    icon_legend=True\n",
        ")\n",
        "plt.title('Se o mundo fosse 100 PESSOAS', weight='bold', size=14);"
      ],
      "metadata": {
        "colab": {
          "base_uri": "https://localhost:8080/",
          "height": 130
        },
        "id": "yn_FhXyIt8K5",
        "outputId": "151692b7-a0b2-45d1-a05e-0609307a25d4"
      },
      "execution_count": 5,
      "outputs": [
        {
          "output_type": "display_data",
          "data": {
            "text/plain": [
              "<Waffle size 432x288 with 1 Axes>"
            ],
            "image/png": "[encoded data removed]"
          },
          "metadata": {
            "needs_background": "light"
          }
        }
      ]
    },
    {
      "cell_type": "markdown",
      "source": [
        "## **Conclusão**\n",
        "\n",
        "Ao analisar o gráfico do Waffle para a percentagem da população dividida entre categorias de idade, é possível inferir que:"
      ],
      "metadata": {
        "id": "ZADGXZvnw5bn"
      }
    },
    {
      "cell_type": "markdown",
      "source": [
        "*   Adultos > Crianças > 65+"
      ],
      "metadata": {
        "id": "hxucBQJmyrCU"
      }
    },
    {
      "cell_type": "markdown",
      "source": [
        "Em outras palavras, por cada grupo de 100 pessoas, deveríamos ter:\n",
        "\n",
        "\n",
        "*   Adultos: 75 (~ 75%)\n",
        "*   Crianças: 25 (~ 25%)\n",
        "*   65+: 9 (~ 9%)\n",
        "\n"
      ],
      "metadata": {
        "id": "zEXuCABRytlN"
      }
    },
    {
      "cell_type": "markdown",
      "source": [
        "Resumindo, o gráfico Waffle certamente poderia ser usado em Storytelling, pois fornece insights instantâneos ao leitor sobre percentagens e proporções. Parece uma alternativa melhor para os gráficos de piza, não é?\n"
      ],
      "metadata": {
        "id": "78yn1oLmy1HL"
      }
    },
    {
      "cell_type": "markdown",
      "source": [
        "Se você tiver alguma dúvida ou feedback, sinta-se à vontade para me contactar através do [LinkedIn](https://www.linkedin.com/in/arthur-tamer/)"
      ],
      "metadata": {
        "id": "gMe-CVKty3lP"
      }
    }
  ]
}